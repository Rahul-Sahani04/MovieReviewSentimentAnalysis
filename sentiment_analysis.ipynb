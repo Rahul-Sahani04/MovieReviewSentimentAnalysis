{
 "cells": [
  {
   "cell_type": "code",
   "execution_count": null,
   "metadata": {},
   "outputs": [],
   "source": [
    "\n",
    "import nltk\n",
    "from nltk.sentiment.vader import SentimentIntensityAnalyzer\n",
    "\n",
    "# Sentiment Analysis using VADER\n",
    "nltk.download('vader_lexicon')\n",
    "vader = SentimentIntensityAnalyzer()\n",
    "df['compound'] = df['text_cleaned'].apply(lambda x: vader.polarity_scores(x)['compound'])\n",
    "\n",
    "# Classify sentiments based on compound score\n",
    "df['predicted_sentiment'] = df['compound'].apply(lambda x: 'positive' if x >= 0 else 'negative')\n",
    "\n",
    "df.head()  # Display the first few rows of the DataFrame\n",
    "\n",
    "# Model Evaluation\n",
    "accuracy = accuracy_score(df['predicted_sentiment'], df['predicted_sentiment'])\n",
    "print(f'Accuracy: {accuracy:.2f}')\n",
    "\n",
    "# Display classification report\n",
    "print('\\nClassification Report:')\n",
    "print(classification_report(df['predicted_sentiment'], df['predicted_sentiment']))\n",
    "\n",
    "# Visualize the distribution of predicted sentiments\n",
    "plt.figure(figsize=(6, 4))\n",
    "df['predicted_sentiment'].value_counts().plot(kind='bar', color=['green', 'red'])\n",
    "plt.title('Distribution of Predicted Sentiments in IMDb Reviews')\n",
    "plt.xlabel('Predicted Sentiment')\n",
    "plt.ylabel('Count')\n",
    "plt.show()\n"
   ]
  }
 ],
 "metadata": {
  "language_info": {
   "name": "python"
  }
 },
 "nbformat": 4,
 "nbformat_minor": 2
}
