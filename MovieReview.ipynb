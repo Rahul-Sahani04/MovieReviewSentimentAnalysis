{
 "cells": [
  {
   "cell_type": "markdown",
   "metadata": {},
   "source": [
    "### Import necessary libraries"
   ]
  },
  {
   "cell_type": "code",
   "execution_count": 26,
   "metadata": {},
   "outputs": [],
   "source": [
    "# Import necessary libraries\n",
    "from bs4 import BeautifulSoup\n",
    "import requests\n",
    "import pandas as pd\n",
    "from sklearn.metrics import accuracy_score, classification_report\n",
    "import matplotlib.pyplot as plt\n",
    "import nltk\n",
    "import re\n",
    "from nltk.sentiment.vader import SentimentIntensityAnalyzer\n",
    "from nltk.stem import WordNetLemmatizer\n",
    "from nltk.corpus import stopwords\n",
    "from sklearn.model_selection import train_test_split\n",
    "from sklearn.feature_extraction.text import TfidfVectorizer\n",
    "from sklearn.naive_bayes import MultinomialNB\n",
    "\n",
    "import os"
   ]
  },
  {
   "cell_type": "code",
   "execution_count": 27,
   "metadata": {},
   "outputs": [],
   "source": [
    "# Function to scrape IMDb movie reviews\n",
    "\n",
    "def scrape_imdb_reviews(movie_url):\n",
    "    response = requests.get(movie_url)\n",
    "    soup = BeautifulSoup(response.text, 'html.parser')\n",
    "    \n",
    "    # Extracting review text\n",
    "    reviews = [{'text': review_div.get_text(strip=True)} for review_div in soup.find_all('a', class_='title')]\n",
    "    \n",
    "    return reviews"
   ]
  },
  {
   "cell_type": "code",
   "execution_count": 28,
   "metadata": {},
   "outputs": [
    {
     "data": {
      "text/html": [
       "<div>\n",
       "<style scoped>\n",
       "    .dataframe tbody tr th:only-of-type {\n",
       "        vertical-align: middle;\n",
       "    }\n",
       "\n",
       "    .dataframe tbody tr th {\n",
       "        vertical-align: top;\n",
       "    }\n",
       "\n",
       "    .dataframe thead th {\n",
       "        text-align: right;\n",
       "    }\n",
       "</style>\n",
       "<table border=\"1\" class=\"dataframe\">\n",
       "  <thead>\n",
       "    <tr style=\"text-align: right;\">\n",
       "      <th></th>\n",
       "      <th>text</th>\n",
       "    </tr>\n",
       "  </thead>\n",
       "  <tbody>\n",
       "    <tr>\n",
       "      <th>0</th>\n",
       "      <td>Besides a soulful score by Ajay Atul, this ada...</td>\n",
       "    </tr>\n",
       "    <tr>\n",
       "      <th>1</th>\n",
       "      <td>Pathetic Ramayan parody</td>\n",
       "    </tr>\n",
       "    <tr>\n",
       "      <th>2</th>\n",
       "      <td>How can someone make a movie that bad ?</td>\n",
       "    </tr>\n",
       "    <tr>\n",
       "      <th>3</th>\n",
       "      <td>Tiresome Commercialized Ramayan</td>\n",
       "    </tr>\n",
       "    <tr>\n",
       "      <th>4</th>\n",
       "      <td>Pathetic ScreenPlay, Out of Context dialogues</td>\n",
       "    </tr>\n",
       "  </tbody>\n",
       "</table>\n",
       "</div>"
      ],
      "text/plain": [
       "                                                text\n",
       "0  Besides a soulful score by Ajay Atul, this ada...\n",
       "1                            Pathetic Ramayan parody\n",
       "2            How can someone make a movie that bad ?\n",
       "3                    Tiresome Commercialized Ramayan\n",
       "4      Pathetic ScreenPlay, Out of Context dialogues"
      ]
     },
     "execution_count": 28,
     "metadata": {},
     "output_type": "execute_result"
    }
   ],
   "source": [
    "# IMDb movie URL (replace with the actual movie URL)\n",
    "IMDB_Code = \"tt12915716\"\n",
    "movie_url = f'https://www.imdb.com/title/{IMDB_Code}/reviews'\n",
    "\n",
    "# Scrape IMDb movie reviews\n",
    "movie_reviews = scrape_imdb_reviews(movie_url)\n",
    "\n",
    "# Convert the list of dictionaries to a DataFrame\n",
    "df = pd.DataFrame(movie_reviews)\n",
    "df.head()"
   ]
  },
  {
   "cell_type": "markdown",
   "metadata": {},
   "source": [
    "### Data Preprocessing\n"
   ]
  },
  {
   "cell_type": "code",
   "execution_count": 29,
   "metadata": {},
   "outputs": [],
   "source": [
    "# nltk.download('wordnet')"
   ]
  },
  {
   "cell_type": "code",
   "execution_count": 30,
   "metadata": {},
   "outputs": [],
   "source": [
    "# Function for text cleaning\n",
    "def clean_text(text):\n",
    "    cleaned_text = re.sub(r\"[^\\w\\s]\", \"\", text.lower())  # Convert to lowercase and remove special characters\n",
    "    return cleaned_text\n",
    "\n",
    "# Function for tokenization\n",
    "def tokenize_text(text):\n",
    "    return nltk.word_tokenize(text)\n",
    "\n",
    "# Function for removing stopwords\n",
    "def remove_stopwords(tokens):\n",
    "    stop_words = set(stopwords.words(\"english\"))\n",
    "    return [token for token in tokens if token.lower() not in stop_words]\n",
    "\n",
    "# Function for lemmatization\n",
    "def lemmatize_text(tokens):\n",
    "    lemmatizer = WordNetLemmatizer()\n",
    "    return [lemmatizer.lemmatize(token) for token in tokens]"
   ]
  },
  {
   "cell_type": "code",
   "execution_count": 31,
   "metadata": {},
   "outputs": [],
   "source": [
    "\n",
    "# Data Preprocessing\n",
    "df[\"text_cleaned\"] = df[\"text\"].apply(clean_text)\n",
    "df[\"tokens\"] = df[\"text_cleaned\"].apply(tokenize_text)\n",
    "df[\"tokens\"] = df[\"tokens\"].apply(remove_stopwords)\n",
    "df[\"tokens\"] = df[\"tokens\"].apply(lemmatize_text)"
   ]
  },
  {
   "cell_type": "code",
   "execution_count": 32,
   "metadata": {},
   "outputs": [
    {
     "data": {
      "text/html": [
       "<div>\n",
       "<style scoped>\n",
       "    .dataframe tbody tr th:only-of-type {\n",
       "        vertical-align: middle;\n",
       "    }\n",
       "\n",
       "    .dataframe tbody tr th {\n",
       "        vertical-align: top;\n",
       "    }\n",
       "\n",
       "    .dataframe thead th {\n",
       "        text-align: right;\n",
       "    }\n",
       "</style>\n",
       "<table border=\"1\" class=\"dataframe\">\n",
       "  <thead>\n",
       "    <tr style=\"text-align: right;\">\n",
       "      <th></th>\n",
       "      <th>text</th>\n",
       "      <th>text_cleaned</th>\n",
       "      <th>tokens</th>\n",
       "      <th>compound</th>\n",
       "      <th>predicted_sentiment</th>\n",
       "    </tr>\n",
       "  </thead>\n",
       "  <tbody>\n",
       "    <tr>\n",
       "      <th>0</th>\n",
       "      <td>Besides a soulful score by Ajay Atul, this ada...</td>\n",
       "      <td>besides a soulful score by ajay atul this adap...</td>\n",
       "      <td>[besides, soulful, score, ajay, atul, adaptati...</td>\n",
       "      <td>0.0000</td>\n",
       "      <td>positive</td>\n",
       "    </tr>\n",
       "    <tr>\n",
       "      <th>1</th>\n",
       "      <td>Pathetic Ramayan parody</td>\n",
       "      <td>pathetic ramayan parody</td>\n",
       "      <td>[pathetic, ramayan, parody]</td>\n",
       "      <td>-0.5719</td>\n",
       "      <td>negative</td>\n",
       "    </tr>\n",
       "    <tr>\n",
       "      <th>2</th>\n",
       "      <td>How can someone make a movie that bad ?</td>\n",
       "      <td>how can someone make a movie that bad</td>\n",
       "      <td>[someone, make, movie, bad]</td>\n",
       "      <td>-0.5423</td>\n",
       "      <td>negative</td>\n",
       "    </tr>\n",
       "    <tr>\n",
       "      <th>3</th>\n",
       "      <td>Tiresome Commercialized Ramayan</td>\n",
       "      <td>tiresome commercialized ramayan</td>\n",
       "      <td>[tiresome, commercialized, ramayan]</td>\n",
       "      <td>0.0000</td>\n",
       "      <td>positive</td>\n",
       "    </tr>\n",
       "    <tr>\n",
       "      <th>4</th>\n",
       "      <td>Pathetic ScreenPlay, Out of Context dialogues</td>\n",
       "      <td>pathetic screenplay out of context dialogues</td>\n",
       "      <td>[pathetic, screenplay, context, dialogue]</td>\n",
       "      <td>-0.5719</td>\n",
       "      <td>negative</td>\n",
       "    </tr>\n",
       "  </tbody>\n",
       "</table>\n",
       "</div>"
      ],
      "text/plain": [
       "                                                text  \\\n",
       "0  Besides a soulful score by Ajay Atul, this ada...   \n",
       "1                            Pathetic Ramayan parody   \n",
       "2            How can someone make a movie that bad ?   \n",
       "3                    Tiresome Commercialized Ramayan   \n",
       "4      Pathetic ScreenPlay, Out of Context dialogues   \n",
       "\n",
       "                                        text_cleaned  \\\n",
       "0  besides a soulful score by ajay atul this adap...   \n",
       "1                            pathetic ramayan parody   \n",
       "2             how can someone make a movie that bad    \n",
       "3                    tiresome commercialized ramayan   \n",
       "4       pathetic screenplay out of context dialogues   \n",
       "\n",
       "                                              tokens  compound  \\\n",
       "0  [besides, soulful, score, ajay, atul, adaptati...    0.0000   \n",
       "1                        [pathetic, ramayan, parody]   -0.5719   \n",
       "2                        [someone, make, movie, bad]   -0.5423   \n",
       "3                [tiresome, commercialized, ramayan]    0.0000   \n",
       "4          [pathetic, screenplay, context, dialogue]   -0.5719   \n",
       "\n",
       "  predicted_sentiment  \n",
       "0            positive  \n",
       "1            negative  \n",
       "2            negative  \n",
       "3            positive  \n",
       "4            negative  "
      ]
     },
     "execution_count": 32,
     "metadata": {},
     "output_type": "execute_result"
    }
   ],
   "source": [
    "# Sentiment Analysis using VADER\n",
    "# nltk.download('vader_lexicon')\n",
    "\n",
    "vader = SentimentIntensityAnalyzer()\n",
    "df['compound'] = df['text_cleaned'].apply(lambda x: vader.polarity_scores(x)['compound'])\n",
    "\n",
    "# Classify sentiments based on compound score\n",
    "df['predicted_sentiment'] = df['compound'].apply(lambda x: 'positive' if x >= 0 else 'negative')\n",
    "\n",
    "df.head()  # Display the first few rows of the DataFrame"
   ]
  },
  {
   "cell_type": "code",
   "execution_count": 33,
   "metadata": {},
   "outputs": [
    {
     "name": "stdout",
     "output_type": "stream",
     "text": [
      "Accuracy: 1.00\n",
      "\n",
      "Classification Report:\n",
      "              precision    recall  f1-score   support\n",
      "\n",
      "    negative       1.00      1.00      1.00        16\n",
      "    positive       1.00      1.00      1.00         9\n",
      "\n",
      "    accuracy                           1.00        25\n",
      "   macro avg       1.00      1.00      1.00        25\n",
      "weighted avg       1.00      1.00      1.00        25\n",
      "\n"
     ]
    }
   ],
   "source": [
    "# Model Evaluation\n",
    "accuracy = accuracy_score(df['predicted_sentiment'], df['predicted_sentiment'])\n",
    "print(f'Accuracy: {accuracy:.2f}')\n",
    "\n",
    "# Display classification report\n",
    "print('\\nClassification Report:')\n",
    "print(classification_report(df['predicted_sentiment'], df['predicted_sentiment']))"
   ]
  },
  {
   "cell_type": "code",
   "execution_count": 34,
   "metadata": {},
   "outputs": [
    {
     "data": {
      "text/plain": [
       "0    positive\n",
       "1    negative\n",
       "2    negative\n",
       "3    positive\n",
       "4    negative\n",
       "Name: predicted_sentiment, dtype: object"
      ]
     },
     "execution_count": 34,
     "metadata": {},
     "output_type": "execute_result"
    }
   ],
   "source": [
    "df['predicted_sentiment'].head()"
   ]
  },
  {
   "cell_type": "code",
   "execution_count": 35,
   "metadata": {},
   "outputs": [
    {
     "data": {
      "image/png": "[encoded data removed]",
      "text/plain": [
       "<Figure size 600x400 with 1 Axes>"
      ]
     },
     "metadata": {},
     "output_type": "display_data"
    }
   ],
   "source": [
    "save_path = \"results\"\n",
    "colors = [\"green\" if col.lower() == \"positive\" else \"red\" for col in df[\"predicted_sentiment\"].value_counts().index]\n",
    "\n",
    "# Visualize the distribution of predicted sentiments\n",
    "plt.figure(figsize=(6, 4))\n",
    "df['predicted_sentiment'].value_counts().plot(kind='bar', color=colors)\n",
    "plt.title(f'Distribution of Predicted Sentiments in IMDb Reviews ({IMDB_Code})')\n",
    "plt.xlabel('Predicted Sentiment')\n",
    "plt.ylabel('Count')\n",
    "plt.tight_layout()\n",
    "# Save the plot to a file\n",
    "plt.savefig(os.path.join(save_path, f\"sentiment_distribution_for_{IMDB_Code}.png\"))\n",
    "\n",
    "plt.show()\n"
   ]
  },
  {
   "cell_type": "code",
   "execution_count": 36,
   "metadata": {},
   "outputs": [],
   "source": [
    "df.to_csv(os.path.join(save_path, f\"movie_reviews_with_sentiment_for_{IMDB_Code}.csv\"), index=False)"
   ]
  },
  {
   "cell_type": "code",
   "execution_count": 37,
   "metadata": {},
   "outputs": [
    {
     "name": "stdout",
     "output_type": "stream",
     "text": [
      "The sentiment analysis did not identify a clear positive sentiment in the reviews.\n"
     ]
    }
   ],
   "source": [
    "# Display a message indicating positive sentiment\n",
    "more_counts = df['predicted_sentiment'].value_counts().index \n",
    "\n",
    "if \"positive\" == more_counts[0]:\n",
    "    print(\"The movie has positive reviews! You should consider watching it.\")\n",
    "else:\n",
    "    print(\"The sentiment analysis did not identify a clear positive sentiment in the reviews.\")"
   ]
  },
  {
   "cell_type": "code",
   "execution_count": null,
   "metadata": {},
   "outputs": [],
   "source": []
  }
 ],
 "metadata": {
  "kernelspec": {
   "display_name": "Python 3",
   "language": "python",
   "name": "python3"
  },
  "language_info": {
   "codemirror_mode": {
    "name": "ipython",
    "version": 3
   },
   "file_extension": ".py",
   "mimetype": "text/x-python",
   "name": "python",
   "nbconvert_exporter": "python",
   "pygments_lexer": "ipython3",
   "version": "3.9.6"
  }
 },
 "nbformat": 4,
 "nbformat_minor": 2
}
