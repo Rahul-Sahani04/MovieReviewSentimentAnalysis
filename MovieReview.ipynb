{
 "cells": [
  {
   "cell_type": "markdown",
   "metadata": {},
   "source": [
    "### Import necessary libraries"
   ]
  },
  {
   "cell_type": "code",
   "execution_count": 11,
   "metadata": {},
   "outputs": [],
   "source": [
    "# Import necessary libraries\n",
    "from bs4 import BeautifulSoup\n",
    "import requests\n",
    "import pandas as pd\n",
    "from sklearn.metrics import accuracy_score, classification_report\n",
    "import matplotlib.pyplot as plt\n",
    "import nltk\n",
    "import re\n",
    "from nltk.sentiment.vader import SentimentIntensityAnalyzer\n",
    "from nltk.stem import WordNetLemmatizer\n",
    "from nltk.corpus import stopwords\n",
    "from sklearn.model_selection import train_test_split\n",
    "from sklearn.feature_extraction.text import TfidfVectorizer\n",
    "from sklearn.naive_bayes import MultinomialNB"
   ]
  },
  {
   "cell_type": "code",
   "execution_count": 12,
   "metadata": {},
   "outputs": [],
   "source": [
    "# Function to scrape IMDb movie reviews\n",
    "def scrape_imdb_reviews(movie_url):\n",
    "    response = requests.get(movie_url)\n",
    "    soup = BeautifulSoup(response.text, 'html.parser')\n",
    "    \n",
    "    # Extracting review text\n",
    "    reviews = [{'text': review_div.get_text(strip=True)} for review_div in soup.find_all('div', class_='text show-more__control')]\n",
    "    \n",
    "    return reviews"
   ]
  },
  {
   "cell_type": "code",
   "execution_count": 13,
   "metadata": {},
   "outputs": [
    {
     "data": {
      "text/html": [
       "<div>\n",
       "<style scoped>\n",
       "    .dataframe tbody tr th:only-of-type {\n",
       "        vertical-align: middle;\n",
       "    }\n",
       "\n",
       "    .dataframe tbody tr th {\n",
       "        vertical-align: top;\n",
       "    }\n",
       "\n",
       "    .dataframe thead th {\n",
       "        text-align: right;\n",
       "    }\n",
       "</style>\n",
       "<table border=\"1\" class=\"dataframe\">\n",
       "  <thead>\n",
       "    <tr style=\"text-align: right;\">\n",
       "      <th></th>\n",
       "      <th>text</th>\n",
       "    </tr>\n",
       "  </thead>\n",
       "  <tbody>\n",
       "    <tr>\n",
       "      <th>0</th>\n",
       "      <td>\"Spider-Man: Into the Spider-Verse\" is a fanta...</td>\n",
       "    </tr>\n",
       "    <tr>\n",
       "      <th>1</th>\n",
       "      <td>So many have commented, so I will be brief. Fr...</td>\n",
       "    </tr>\n",
       "    <tr>\n",
       "      <th>2</th>\n",
       "      <td>The worlds of superhero movies and superhero c...</td>\n",
       "    </tr>\n",
       "    <tr>\n",
       "      <th>3</th>\n",
       "      <td>The thing I hate about superhero movies is the...</td>\n",
       "    </tr>\n",
       "    <tr>\n",
       "      <th>4</th>\n",
       "      <td>A movie worthy of Stan Lee's approval. Incredi...</td>\n",
       "    </tr>\n",
       "  </tbody>\n",
       "</table>\n",
       "</div>"
      ],
      "text/plain": [
       "                                                text\n",
       "0  \"Spider-Man: Into the Spider-Verse\" is a fanta...\n",
       "1  So many have commented, so I will be brief. Fr...\n",
       "2  The worlds of superhero movies and superhero c...\n",
       "3  The thing I hate about superhero movies is the...\n",
       "4  A movie worthy of Stan Lee's approval. Incredi..."
      ]
     },
     "execution_count": 13,
     "metadata": {},
     "output_type": "execute_result"
    }
   ],
   "source": [
    "# IMDb movie URL (replace with the actual movie URL)\n",
    "IMDB_Code = \"tt4633694\"\n",
    "movie_url = f'https://www.imdb.com/title/{IMDB_Code}/reviews'\n",
    "\n",
    "# Scrape IMDb movie reviews\n",
    "movie_reviews = scrape_imdb_reviews(movie_url)\n",
    "\n",
    "# Convert the list of dictionaries to a DataFrame\n",
    "df = pd.DataFrame(movie_reviews)\n",
    "df.head()"
   ]
  },
  {
   "cell_type": "markdown",
   "metadata": {},
   "source": [
    "### Data Preprocessing\n"
   ]
  },
  {
   "cell_type": "code",
   "execution_count": 14,
   "metadata": {},
   "outputs": [],
   "source": [
    "# nltk.download('wordnet')"
   ]
  },
  {
   "cell_type": "code",
   "execution_count": 15,
   "metadata": {},
   "outputs": [],
   "source": [
    "# Function for text cleaning\n",
    "def clean_text(text):\n",
    "    cleaned_text = re.sub(r\"[^\\w\\s]\", \"\", text.lower())  # Convert to lowercase and remove special characters\n",
    "    return cleaned_text\n",
    "\n",
    "# Function for tokenization\n",
    "def tokenize_text(text):\n",
    "    return nltk.word_tokenize(text)\n",
    "\n",
    "# Function for removing stopwords\n",
    "def remove_stopwords(tokens):\n",
    "    stop_words = set(stopwords.words(\"english\"))\n",
    "    return [token for token in tokens if token.lower() not in stop_words]\n",
    "\n",
    "# Function for lemmatization\n",
    "def lemmatize_text(tokens):\n",
    "    lemmatizer = WordNetLemmatizer()\n",
    "    return [lemmatizer.lemmatize(token) for token in tokens]"
   ]
  },
  {
   "cell_type": "code",
   "execution_count": 16,
   "metadata": {},
   "outputs": [],
   "source": [
    "\n",
    "# Data Preprocessing\n",
    "df[\"text_cleaned\"] = df[\"text\"].apply(clean_text)\n",
    "df[\"tokens\"] = df[\"text_cleaned\"].apply(tokenize_text)\n",
    "df[\"tokens\"] = df[\"tokens\"].apply(remove_stopwords)\n",
    "df[\"tokens\"] = df[\"tokens\"].apply(lemmatize_text)"
   ]
  },
  {
   "cell_type": "code",
   "execution_count": 17,
   "metadata": {},
   "outputs": [
    {
     "data": {
      "text/html": [
       "<div>\n",
       "<style scoped>\n",
       "    .dataframe tbody tr th:only-of-type {\n",
       "        vertical-align: middle;\n",
       "    }\n",
       "\n",
       "    .dataframe tbody tr th {\n",
       "        vertical-align: top;\n",
       "    }\n",
       "\n",
       "    .dataframe thead th {\n",
       "        text-align: right;\n",
       "    }\n",
       "</style>\n",
       "<table border=\"1\" class=\"dataframe\">\n",
       "  <thead>\n",
       "    <tr style=\"text-align: right;\">\n",
       "      <th></th>\n",
       "      <th>text</th>\n",
       "      <th>text_cleaned</th>\n",
       "      <th>tokens</th>\n",
       "      <th>compound</th>\n",
       "      <th>predicted_sentiment</th>\n",
       "    </tr>\n",
       "  </thead>\n",
       "  <tbody>\n",
       "    <tr>\n",
       "      <th>0</th>\n",
       "      <td>\"Spider-Man: Into the Spider-Verse\" is a fanta...</td>\n",
       "      <td>spiderman into the spiderverse is a fantastic ...</td>\n",
       "      <td>[spiderman, spiderverse, fantastic, film, migh...</td>\n",
       "      <td>-0.3348</td>\n",
       "      <td>negative</td>\n",
       "    </tr>\n",
       "    <tr>\n",
       "      <th>1</th>\n",
       "      <td>So many have commented, so I will be brief. Fr...</td>\n",
       "      <td>so many have commented so i will be brief from...</td>\n",
       "      <td>[many, commented, brief, intriguing, plot, won...</td>\n",
       "      <td>0.7615</td>\n",
       "      <td>positive</td>\n",
       "    </tr>\n",
       "    <tr>\n",
       "      <th>2</th>\n",
       "      <td>The worlds of superhero movies and superhero c...</td>\n",
       "      <td>the worlds of superhero movies and superhero c...</td>\n",
       "      <td>[world, superhero, movie, superhero, comic, si...</td>\n",
       "      <td>0.9862</td>\n",
       "      <td>positive</td>\n",
       "    </tr>\n",
       "    <tr>\n",
       "      <th>3</th>\n",
       "      <td>The thing I hate about superhero movies is the...</td>\n",
       "      <td>the thing i hate about superhero movies is the...</td>\n",
       "      <td>[thing, hate, superhero, movie, origin, story,...</td>\n",
       "      <td>0.9992</td>\n",
       "      <td>positive</td>\n",
       "    </tr>\n",
       "    <tr>\n",
       "      <th>4</th>\n",
       "      <td>A movie worthy of Stan Lee's approval. Incredi...</td>\n",
       "      <td>a movie worthy of stan lees approval incredibl...</td>\n",
       "      <td>[movie, worthy, stan, lee, approval, incredibl...</td>\n",
       "      <td>0.9727</td>\n",
       "      <td>positive</td>\n",
       "    </tr>\n",
       "  </tbody>\n",
       "</table>\n",
       "</div>"
      ],
      "text/plain": [
       "                                                text  \\\n",
       "0  \"Spider-Man: Into the Spider-Verse\" is a fanta...   \n",
       "1  So many have commented, so I will be brief. Fr...   \n",
       "2  The worlds of superhero movies and superhero c...   \n",
       "3  The thing I hate about superhero movies is the...   \n",
       "4  A movie worthy of Stan Lee's approval. Incredi...   \n",
       "\n",
       "                                        text_cleaned  \\\n",
       "0  spiderman into the spiderverse is a fantastic ...   \n",
       "1  so many have commented so i will be brief from...   \n",
       "2  the worlds of superhero movies and superhero c...   \n",
       "3  the thing i hate about superhero movies is the...   \n",
       "4  a movie worthy of stan lees approval incredibl...   \n",
       "\n",
       "                                              tokens  compound  \\\n",
       "0  [spiderman, spiderverse, fantastic, film, migh...   -0.3348   \n",
       "1  [many, commented, brief, intriguing, plot, won...    0.7615   \n",
       "2  [world, superhero, movie, superhero, comic, si...    0.9862   \n",
       "3  [thing, hate, superhero, movie, origin, story,...    0.9992   \n",
       "4  [movie, worthy, stan, lee, approval, incredibl...    0.9727   \n",
       "\n",
       "  predicted_sentiment  \n",
       "0            negative  \n",
       "1            positive  \n",
       "2            positive  \n",
       "3            positive  \n",
       "4            positive  "
      ]
     },
     "execution_count": 17,
     "metadata": {},
     "output_type": "execute_result"
    }
   ],
   "source": [
    "# Sentiment Analysis using VADER\n",
    "# nltk.download('vader_lexicon')\n",
    "\n",
    "vader = SentimentIntensityAnalyzer()\n",
    "df['compound'] = df['text_cleaned'].apply(lambda x: vader.polarity_scores(x)['compound'])\n",
    "\n",
    "# Classify sentiments based on compound score\n",
    "df['predicted_sentiment'] = df['compound'].apply(lambda x: 'positive' if x >= 0 else 'negative')\n",
    "\n",
    "df.head()  # Display the first few rows of the DataFrame"
   ]
  },
  {
   "cell_type": "code",
   "execution_count": 18,
   "metadata": {},
   "outputs": [
    {
     "name": "stdout",
     "output_type": "stream",
     "text": [
      "Accuracy: 1.00\n",
      "\n",
      "Classification Report:\n",
      "              precision    recall  f1-score   support\n",
      "\n",
      "    negative       1.00      1.00      1.00         2\n",
      "    positive       1.00      1.00      1.00        23\n",
      "\n",
      "    accuracy                           1.00        25\n",
      "   macro avg       1.00      1.00      1.00        25\n",
      "weighted avg       1.00      1.00      1.00        25\n",
      "\n"
     ]
    }
   ],
   "source": [
    "# Model Evaluation\n",
    "accuracy = accuracy_score(df['predicted_sentiment'], df['predicted_sentiment'])\n",
    "print(f'Accuracy: {accuracy:.2f}')\n",
    "\n",
    "# Display classification report\n",
    "print('\\nClassification Report:')\n",
    "print(classification_report(df['predicted_sentiment'], df['predicted_sentiment']))"
   ]
  },
  {
   "cell_type": "code",
   "execution_count": 19,
   "metadata": {},
   "outputs": [
    {
     "data": {
      "text/plain": [
       "0    negative\n",
       "1    positive\n",
       "2    positive\n",
       "3    positive\n",
       "4    positive\n",
       "Name: predicted_sentiment, dtype: object"
      ]
     },
     "execution_count": 19,
     "metadata": {},
     "output_type": "execute_result"
    }
   ],
   "source": [
    "df['predicted_sentiment'].head()"
   ]
  },
  {
   "cell_type": "code",
   "execution_count": 20,
   "metadata": {},
   "outputs": [
    {
     "data": {
      "image/png": "[encoded data removed]",
      "text/plain": [
       "<Figure size 600x400 with 1 Axes>"
      ]
     },
     "metadata": {},
     "output_type": "display_data"
    }
   ],
   "source": [
    "# Visualize the distribution of predicted sentiments\n",
    "plt.figure(figsize=(6, 4))\n",
    "df['predicted_sentiment'].value_counts().plot(kind='bar', color=['green', 'red'])\n",
    "plt.title('Distribution of Predicted Sentiments in IMDb Reviews')\n",
    "plt.xlabel('Predicted Sentiment')\n",
    "plt.ylabel('Count')\n",
    "plt.show()"
   ]
  },
  {
   "cell_type": "code",
   "execution_count": null,
   "metadata": {},
   "outputs": [],
   "source": []
  }
 ],
 "metadata": {
  "kernelspec": {
   "display_name": "Python 3",
   "language": "python",
   "name": "python3"
  },
  "language_info": {
   "codemirror_mode": {
    "name": "ipython",
    "version": 3
   },
   "file_extension": ".py",
   "mimetype": "text/x-python",
   "name": "python",
   "nbconvert_exporter": "python",
   "pygments_lexer": "ipython3",
   "version": "3.9.6"
  }
 },
 "nbformat": 4,
 "nbformat_minor": 2
}
