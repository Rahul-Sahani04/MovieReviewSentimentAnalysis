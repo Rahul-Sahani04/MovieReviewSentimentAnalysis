{
 "cells": [
  {
   "cell_type": "code",
   "execution_count": 5,
   "metadata": {},
   "outputs": [],
   "source": [
    "\n",
    "# pip3 install scikit-learn\n",
    "\n",
    "import nltk\n",
    "from nltk.corpus import movie_reviews\n",
    "from sklearn.model_selection import train_test_split\n",
    "from sklearn.feature_extraction.text import CountVectorizer\n",
    "from sklearn.naive_bayes import MultinomialNB\n",
    "from sklearn.metrics import accuracy_score\n",
    "import re\n",
    "import random\n",
    "\n",
    "from sklearn.linear_model import LogisticRegression\n",
    "from sklearn.feature_extraction.text import TfidfVectorizer"
   ]
  },
  {
   "cell_type": "code",
   "execution_count": 6,
   "metadata": {},
   "outputs": [
    {
     "name": "stdout",
     "output_type": "stream",
     "text": [
      "The sentiment predicted by the model is: negative\n",
      "The sentiment predicted by the model is: positive\n",
      "The sentiment predicted by the model is: negative\n",
      "The sentiment predicted by the model is: negative\n",
      "The sentiment predicted by the model is: negative\n"
     ]
    }
   ],
   "source": [
    "# Download the twitter_samples dataset\n",
    "# nltk.download('twitter_samples')\n",
    "\n",
    "# Import twitter_samples dataset\n",
    "from nltk.corpus import twitter_samples\n",
    "\n",
    "# Begin text vectorization\n",
    "vectorizer = TfidfVectorizer(ngram_range=(1, 3), min_df=5, max_df=0.8)\n",
    "\n",
    "# Initialize the Logistic Regression classifier\n",
    "from sklearn.linear_model import LogisticRegression\n",
    "logistic_classifier = LogisticRegression()\n",
    "\n",
    "def load_model():\n",
    "    # Load positive and negative tweets\n",
    "    positive_tweets = twitter_samples.strings('positive_tweets.json')\n",
    "    negative_tweets = twitter_samples.strings('negative_tweets.json')\n",
    "\n",
    "    # Creating labelled data\n",
    "    documents = []\n",
    "\n",
    "    # Adding positive tweets\n",
    "    for tweet in positive_tweets:\n",
    "        documents.append((tweet, \"positive\"))\n",
    "\n",
    "    # Adding negative tweets\n",
    "    for tweet in negative_tweets:\n",
    "        documents.append((tweet, \"negative\"))\n",
    "\n",
    "    # Split the dataset into the text and labels\n",
    "    texts, labels = zip(*documents)\n",
    "\n",
    "    # Split data into training and test sets\n",
    "    train_texts, test_texts, train_labels, test_labels = train_test_split(texts, labels, test_size=0.25, random_state=42)\n",
    "\n",
    "    # Fit and transform the training data\n",
    "    train_vectors = vectorizer.fit_transform(train_texts)\n",
    "\n",
    "    # Transform the test data\n",
    "    test_vectors = vectorizer.transform(test_texts)\n",
    "\n",
    "\n",
    "\n",
    "    # Train the classifier\n",
    "    logistic_classifier.fit(train_vectors, train_labels)\n",
    "\n",
    "\n",
    "# Predict sentiments for test data using the trained classifier\n",
    "def logistic_predict_sentiment(new_text):\n",
    "    new_vector = vectorizer.transform([new_text])\n",
    "    pred = logistic_classifier.predict(new_vector)\n",
    "    return pred[0]\n",
    "\n",
    "\n",
    "if __name__ == \"__main__\":\n",
    "    load_model()\n",
    "    # Test your results with the sample tweets below\n",
    "    sample_tweets = [\n",
    "        \"Besides a soulful score by Ajay Atul, this adaptation of Ramayana is a baffling and collosal dissapointment.\",\n",
    "        \"Had an amazing time at the beach today with friends. The weather was perfect! ☀️ #blessed\",\n",
    "        \"Extremely disappointed with the service at the restaurant tonight. Waited over an hour and still got the order wrong. 😡\",\n",
    "        \"Feeling really let down by the season finale. It was so rushed and left too many unanswered questions. 😞 #TVShow\",\n",
    "        \"My phone keeps crashing after the latest update. So frustrating dealing with these glitches! 😠\",\n",
    "    ]\n",
    "\n",
    "    # Test the function\n",
    "    for sentence in sample_tweets:\n",
    "        print(f\"The sentiment predicted by the model is: {logistic_predict_sentiment(sentence)}\")\n",
    "        "
   ]
  },
  {
   "cell_type": "code",
   "execution_count": null,
   "metadata": {},
   "outputs": [],
   "source": []
  }
 ],
 "metadata": {
  "kernelspec": {
   "display_name": "Python 3",
   "language": "python",
   "name": "python3"
  },
  "language_info": {
   "codemirror_mode": {
    "name": "ipython",
    "version": 3
   },
   "file_extension": ".py",
   "mimetype": "text/x-python",
   "name": "python",
   "nbconvert_exporter": "python",
   "pygments_lexer": "ipython3",
   "version": "3.9.6"
  }
 },
 "nbformat": 4,
 "nbformat_minor": 2
}
