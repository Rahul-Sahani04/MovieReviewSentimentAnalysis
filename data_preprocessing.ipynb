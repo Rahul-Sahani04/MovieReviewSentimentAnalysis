{
 "cells": [
  {
   "cell_type": "code",
   "execution_count": null,
   "metadata": {},
   "outputs": [],
   "source": [
    "# data_preprocessing.ipynb\n",
    "\n",
    "import nltk\n",
    "import re\n",
    "from nltk.stem import WordNetLemmatizer\n",
    "from nltk.corpus import stopwords\n",
    "\n",
    "# Function for cleaning text\n",
    "def clean_text(text):\n",
    "    cleaned_text = text.lower()  # Convert to lowercase for consistency\n",
    "    cleaned_text = re.sub(r\"[^\\w\\s]\", \"\", cleaned_text)  # Remove special characters\n",
    "\n",
    "    return cleaned_text\n",
    "\n",
    "# Function for tokenization\n",
    "def tokenize_text(text):\n",
    "    tokens = nltk.word_tokenize(text)\n",
    "    return tokens\n",
    "\n",
    "# Function for removing stopwords\n",
    "def remove_stopwords(tokens):\n",
    "    stop_words = set(stopwords.words(\"english\"))\n",
    "    filtered_tokens = [token for token in tokens if token.lower() not in stop_words]\n",
    "    return filtered_tokens\n",
    "\n",
    "# Function for lemmatization\n",
    "def lemmatize_text(tokens):\n",
    "    lemmatizer = WordNetLemmatizer()\n",
    "    lemmatized_tokens = [lemmatizer.lemmatize(token) for token in tokens]\n",
    "    return lemmatized_tokens\n",
    "\n",
    "# Text Cleaning\n",
    "df[\"text_cleaned\"] = df[\"text\"].apply(lambda x: clean_text(x))\n",
    "\n",
    "# Tokenization\n",
    "df[\"tokens\"] = df[\"text_cleaned\"].apply(lambda x: tokenize_text(x))\n",
    "\n",
    "# Stopword Removal\n",
    "df[\"tokens\"] = df[\"tokens\"].apply(lambda x: remove_stopwords(x))\n",
    "\n",
    "# Lemmatization\n",
    "df[\"tokens\"] = df[\"tokens\"].apply(lambda x: lemmatize_text(x))\n"
   ]
  }
 ],
 "metadata": {
  "language_info": {
   "name": "python"
  }
 },
 "nbformat": 4,
 "nbformat_minor": 2
}
