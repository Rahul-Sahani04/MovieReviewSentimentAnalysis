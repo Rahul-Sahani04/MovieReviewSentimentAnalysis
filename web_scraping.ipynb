{
 "cells": [
  {
   "cell_type": "code",
   "execution_count": null,
   "metadata": {},
   "outputs": [],
   "source": [
    "from bs4 import BeautifulSoup\n",
    "import requests\n",
    "import pandas as pd\n",
    "\n",
    "# Function to scrape IMDb movie reviews\n",
    "def scrape_imdb_reviews(movie_url):\n",
    "    response = requests.get(movie_url)\n",
    "    soup = BeautifulSoup(response.text, 'html.parser')\n",
    "    \n",
    "    # Extracting review text\n",
    "    reviews = []\n",
    "    for review_div in soup.find_all('div', class_='text show-more__control'):\n",
    "        review_text = review_div.get_text(strip=True)\n",
    "        reviews.append({'text': review_text})\n",
    "    \n",
    "    return reviews\n",
    "\n",
    "# IMDb movie URL (replace with the actual movie URL)\n",
    "movie_url = 'https://www.imdb.com/title/tt12915716/reviews'\n",
    "\n",
    "# Scrape IMDb movie reviews\n",
    "movie_reviews = scrape_imdb_reviews(movie_url)\n",
    "\n",
    "# Convert the list of dictionaries to a DataFrame\n",
    "df = pd.DataFrame(movie_reviews)\n",
    "df.head()\n"
   ]
  }
 ],
 "metadata": {
  "language_info": {
   "name": "python"
  }
 },
 "nbformat": 4,
 "nbformat_minor": 2
}
